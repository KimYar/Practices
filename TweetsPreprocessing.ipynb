{
  "nbformat": 4,
  "nbformat_minor": 0,
  "metadata": {
    "colab": {
      "name": "TweetsPreprocessing.ipynb",
      "provenance": [],
      "authorship_tag": "ABX9TyPgWgkq70Df2I2fa0Tf19Io"
    },
    "kernelspec": {
      "name": "python3",
      "display_name": "Python 3"
    }
  },
  "cells": [
    {
      "cell_type": "code",
      "metadata": {
        "id": "CVK0cI3XpOse",
        "colab_type": "code",
        "colab": {}
      },
      "source": [
        "import nltk\n",
        "from nltk.corpus import twitter_samples\n",
        "import random\n",
        "import re\n",
        "import matplotlib.pyplot as plt\n",
        "import string\n",
        "from nltk.corpus import stopwords\n",
        "from nltk.stem import PorterStemmer\n",
        "from nltk.tokenize import TweetTokenizer"
      ],
      "execution_count": 14,
      "outputs": []
    },
    {
      "cell_type": "code",
      "metadata": {
        "id": "_FnAfF61pc1I",
        "colab_type": "code",
        "colab": {
          "base_uri": "https://localhost:8080/",
          "height": 102
        },
        "outputId": "37e300ec-63b8-4808-eed6-a0e7243f7d4d"
      },
      "source": [
        "nltk.download('twitter_samples') #Download nltk twitter sample file\n",
        "nltk.download('stopwords') #Download stopwords"
      ],
      "execution_count": 13,
      "outputs": [
        {
          "output_type": "stream",
          "text": [
            "[nltk_data] Downloading package twitter_samples to /root/nltk_data...\n",
            "[nltk_data]   Package twitter_samples is already up-to-date!\n",
            "[nltk_data] Downloading package stopwords to /root/nltk_data...\n",
            "[nltk_data]   Package stopwords is already up-to-date!\n"
          ],
          "name": "stdout"
        },
        {
          "output_type": "execute_result",
          "data": {
            "text/plain": [
              "True"
            ]
          },
          "metadata": {
            "tags": []
          },
          "execution_count": 13
        }
      ]
    },
    {
      "cell_type": "code",
      "metadata": {
        "id": "k59kAGfap3ix",
        "colab_type": "code",
        "colab": {}
      },
      "source": [
        "all_positive_tweets = twitter_samples.strings('positive_tweets.json')\n",
        "all_negative_tweets = twitter_samples.strings('negative_tweets.json')"
      ],
      "execution_count": 6,
      "outputs": []
    },
    {
      "cell_type": "code",
      "metadata": {
        "id": "EXPNd0joqSOg",
        "colab_type": "code",
        "colab": {
          "base_uri": "https://localhost:8080/",
          "height": 54
        },
        "outputId": "ddad5b02-10a9-417d-9cfe-4e36f5113a4d"
      },
      "source": [
        "tweets = all_positive_tweets + all_negative_tweets  #make a list of all 10000 tweets\n",
        "#tweets[946]"
      ],
      "execution_count": 118,
      "outputs": [
        {
          "output_type": "execute_result",
          "data": {
            "application/vnd.google.colaboratory.intrinsic+json": {
              "type": "string"
            },
            "text/plain": [
              "'Any brands wanting me to review BEAUTY products on my blog? mail me at: ladolcevitainluxembourg@hotmail.com #prrequest #journorequest :)'"
            ]
          },
          "metadata": {
            "tags": []
          },
          "execution_count": 118
        }
      ]
    },
    {
      "cell_type": "code",
      "metadata": {
        "id": "B3Ac7s0YrWZN",
        "colab_type": "code",
        "colab": {
          "base_uri": "https://localhost:8080/",
          "height": 37
        },
        "outputId": "2d184f0d-0a76-4dac-d6bc-bfcbb1fb779c"
      },
      "source": [
        "#Removing email addresses, hyperlinks, hashtags, RT(retweets)\n",
        "preprocessed_tweets = []\n",
        "for tweet in tweets:\n",
        "    tweet = re.sub(r'^RT[\\s]+', '', tweet)\n",
        "    tweet = re.sub(r'https?:\\/\\/.*[\\r\\n]*', '', tweet)\n",
        "    tweet = re.sub(r'#','', tweet)\n",
        "    tweet = re.sub(r'[a-zA-Z0-9-_]+@[a-zA-Z0-9-_]+.[a-zA-Z]+','', tweet)\n",
        "    preprocessed_tweets.append(tweet)\n",
        "#preprocessed_tweets[946]"
      ],
      "execution_count": 119,
      "outputs": [
        {
          "output_type": "execute_result",
          "data": {
            "application/vnd.google.colaboratory.intrinsic+json": {
              "type": "string"
            },
            "text/plain": [
              "'Any brands wanting me to review BEAUTY products on my blog? mail me at:  prrequest journorequest :)'"
            ]
          },
          "metadata": {
            "tags": []
          },
          "execution_count": 119
        }
      ]
    },
    {
      "cell_type": "code",
      "metadata": {
        "id": "0b8HhChtsTnl",
        "colab_type": "code",
        "colab": {
          "base_uri": "https://localhost:8080/",
          "height": 340
        },
        "outputId": "f3f1e13a-29fc-4087-a2d1-42bde04a684f"
      },
      "source": [
        "#Tokenizing tweets\n",
        "tokenizer = TweetTokenizer(strip_handles=True, reduce_len=True,  preserve_case=False)\n",
        "tokenized_tweets =[]\n",
        "for tweet in preprocessed_tweets:\n",
        "    tokenized_tweets.append(tokenizer.tokenize(tweet))\n",
        "#tokenized_tweets[946]"
      ],
      "execution_count": 120,
      "outputs": [
        {
          "output_type": "execute_result",
          "data": {
            "text/plain": [
              "['any',\n",
              " 'brands',\n",
              " 'wanting',\n",
              " 'me',\n",
              " 'to',\n",
              " 'review',\n",
              " 'beauty',\n",
              " 'products',\n",
              " 'on',\n",
              " 'my',\n",
              " 'blog',\n",
              " '?',\n",
              " 'mail',\n",
              " 'me',\n",
              " 'at',\n",
              " ':',\n",
              " 'prrequest',\n",
              " 'journorequest',\n",
              " ':)']"
            ]
          },
          "metadata": {
            "tags": []
          },
          "execution_count": 120
        }
      ]
    },
    {
      "cell_type": "code",
      "metadata": {
        "id": "568zundZIVKt",
        "colab_type": "code",
        "colab": {
          "base_uri": "https://localhost:8080/",
          "height": 1000
        },
        "outputId": "8826d3f9-2a74-44ca-cc0a-b2efbac9c153"
      },
      "source": [
        "#Customizing stopwords list,keeping some words for meaning\n",
        "english_stopwords = stopwords.words('english')\n",
        "wanted_stopwords = [ 'aren', \"aren't\", 'couldn', \"couldn't\", 'didn', \"didn't\", 'doesn', \"doesn't\", 'hadn', \"hadn't\", 'hasn', \"hasn't\", 'haven', \"haven't\", 'isn', \"isn't\", 'mightn', \"mightn't\", 'mustn', \"mustn't\", 'needn', \"needn't\", 'shan', \"shan't\", 'shouldn', \"shouldn't\", 'wasn', \"wasn't\", 'weren', \"weren't\", 'won', \"won't\", 'wouldn', \"wouldn't\",'no', 'nor', 'not','ain']\n",
        "for wanted_stopword in wanted_stopwords:\n",
        "    if wanted_stopword in english_stopwords:\n",
        "        english_stopwords.remove(wanted_stopword)"
      ],
      "execution_count": 122,
      "outputs": [
        {
          "output_type": "execute_result",
          "data": {
            "text/plain": [
              "['i',\n",
              " 'me',\n",
              " 'my',\n",
              " 'myself',\n",
              " 'we',\n",
              " 'our',\n",
              " 'ours',\n",
              " 'ourselves',\n",
              " 'you',\n",
              " \"you're\",\n",
              " \"you've\",\n",
              " \"you'll\",\n",
              " \"you'd\",\n",
              " 'your',\n",
              " 'yours',\n",
              " 'yourself',\n",
              " 'yourselves',\n",
              " 'he',\n",
              " 'him',\n",
              " 'his',\n",
              " 'himself',\n",
              " 'she',\n",
              " \"she's\",\n",
              " 'her',\n",
              " 'hers',\n",
              " 'herself',\n",
              " 'it',\n",
              " \"it's\",\n",
              " 'its',\n",
              " 'itself',\n",
              " 'they',\n",
              " 'them',\n",
              " 'their',\n",
              " 'theirs',\n",
              " 'themselves',\n",
              " 'what',\n",
              " 'which',\n",
              " 'who',\n",
              " 'whom',\n",
              " 'this',\n",
              " 'that',\n",
              " \"that'll\",\n",
              " 'these',\n",
              " 'those',\n",
              " 'am',\n",
              " 'is',\n",
              " 'are',\n",
              " 'was',\n",
              " 'were',\n",
              " 'be',\n",
              " 'been',\n",
              " 'being',\n",
              " 'have',\n",
              " 'has',\n",
              " 'had',\n",
              " 'having',\n",
              " 'do',\n",
              " 'does',\n",
              " 'did',\n",
              " 'doing',\n",
              " 'a',\n",
              " 'an',\n",
              " 'the',\n",
              " 'and',\n",
              " 'but',\n",
              " 'if',\n",
              " 'or',\n",
              " 'because',\n",
              " 'as',\n",
              " 'until',\n",
              " 'while',\n",
              " 'of',\n",
              " 'at',\n",
              " 'by',\n",
              " 'for',\n",
              " 'with',\n",
              " 'about',\n",
              " 'against',\n",
              " 'between',\n",
              " 'into',\n",
              " 'through',\n",
              " 'during',\n",
              " 'before',\n",
              " 'after',\n",
              " 'above',\n",
              " 'below',\n",
              " 'to',\n",
              " 'from',\n",
              " 'up',\n",
              " 'down',\n",
              " 'in',\n",
              " 'out',\n",
              " 'on',\n",
              " 'off',\n",
              " 'over',\n",
              " 'under',\n",
              " 'again',\n",
              " 'further',\n",
              " 'then',\n",
              " 'once',\n",
              " 'here',\n",
              " 'there',\n",
              " 'when',\n",
              " 'where',\n",
              " 'why',\n",
              " 'how',\n",
              " 'all',\n",
              " 'any',\n",
              " 'both',\n",
              " 'each',\n",
              " 'few',\n",
              " 'more',\n",
              " 'most',\n",
              " 'other',\n",
              " 'some',\n",
              " 'such',\n",
              " 'only',\n",
              " 'own',\n",
              " 'same',\n",
              " 'so',\n",
              " 'than',\n",
              " 'too',\n",
              " 'very',\n",
              " 's',\n",
              " 't',\n",
              " 'can',\n",
              " 'will',\n",
              " 'just',\n",
              " 'don',\n",
              " \"don't\",\n",
              " 'should',\n",
              " \"should've\",\n",
              " 'now',\n",
              " 'd',\n",
              " 'll',\n",
              " 'm',\n",
              " 'o',\n",
              " 're',\n",
              " 've',\n",
              " 'y',\n",
              " 'ma']"
            ]
          },
          "metadata": {
            "tags": []
          },
          "execution_count": 122
        }
      ]
    },
    {
      "cell_type": "code",
      "metadata": {
        "id": "2wS7e9EMNPUH",
        "colab_type": "code",
        "colab": {
          "base_uri": "https://localhost:8080/",
          "height": 221
        },
        "outputId": "7bb5b073-1840-4d1c-a33b-1e1ef02e6826"
      },
      "source": [
        "#Removing stopwords but keeping emoticon\n",
        "clean_tweets = []\n",
        "for tweet in tokenized_tweets:\n",
        "    \n",
        "    for word in tweet:\n",
        "        if word in english_stopwords:\n",
        "            tweet.remove(word)  \n",
        "      \n",
        "    clean_tweets.append(tweet)\n",
        "\n",
        "#clean_tweets[946]"
      ],
      "execution_count": 130,
      "outputs": [
        {
          "output_type": "execute_result",
          "data": {
            "text/plain": [
              "['brands',\n",
              " 'wanting',\n",
              " 'review',\n",
              " 'beauty',\n",
              " 'products',\n",
              " 'blog',\n",
              " '?',\n",
              " 'mail',\n",
              " ':',\n",
              " 'prrequest',\n",
              " 'journorequest',\n",
              " ':)']"
            ]
          },
          "metadata": {
            "tags": []
          },
          "execution_count": 130
        }
      ]
    },
    {
      "cell_type": "code",
      "metadata": {
        "id": "VMm6yhgMP-cK",
        "colab_type": "code",
        "colab": {
          "base_uri": "https://localhost:8080/",
          "height": 221
        },
        "outputId": "8033c9cb-567d-40ab-bde9-56f026117d44"
      },
      "source": [
        "#Stemming tweets\n",
        "stemmer = PorterStemmer()\n",
        "stemmed_tweets = []\n",
        "for tweet in clean_tweets:\n",
        "    stemmed_tweet = []\n",
        "    for word in tweet:\n",
        "        stemmed_tweet.append(stemmer.stem(word))\n",
        "    stemmed_tweets.append(stemmed_tweet)\n",
        "#stemmed_tweets[946]"
      ],
      "execution_count": 131,
      "outputs": [
        {
          "output_type": "execute_result",
          "data": {
            "text/plain": [
              "['brand',\n",
              " 'want',\n",
              " 'review',\n",
              " 'beauti',\n",
              " 'product',\n",
              " 'blog',\n",
              " '?',\n",
              " 'mail',\n",
              " ':',\n",
              " 'prrequest',\n",
              " 'journorequest',\n",
              " ':)']"
            ]
          },
          "metadata": {
            "tags": []
          },
          "execution_count": 131
        }
      ]
    }
  ]
}